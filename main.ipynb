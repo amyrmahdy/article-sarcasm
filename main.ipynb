{
 "cells": [
  {
   "cell_type": "code",
   "execution_count": 2,
   "metadata": {},
   "outputs": [],
   "source": [
    "import warnings\n",
    "import numpy as np\n",
    "import pandas as pd\n",
    "import tensorflow as tf\n",
    "from tensorflow import keras\n",
    "import matplotlib.pyplot as plt\n",
    "from keras.preprocessing.text import Tokenizer\n",
    "from sklearn.model_selection import train_test_split\n",
    "from tensorflow.keras.preprocessing.sequence import pad_sequences\n",
    "from sklearn.metrics import mean_squared_error,mean_absolute_error\n",
    "from sklearn.metrics import classification_report, confusion_matrix, ConfusionMatrixDisplay, f1_score\n",
    "\n",
    "warnings.filterwarnings(\"ignore\")"
   ]
  },
  {
   "attachments": {},
   "cell_type": "markdown",
   "metadata": {},
   "source": [
    "## Dataset"
   ]
  },
  {
   "cell_type": "code",
   "execution_count": 3,
   "metadata": {},
   "outputs": [],
   "source": [
    "\n",
    "dataset = pd.read_json(\"sarcasm.json\")"
   ]
  },
  {
   "attachments": {},
   "cell_type": "markdown",
   "metadata": {},
   "source": [
    "## Cleaning"
   ]
  },
  {
   "cell_type": "code",
   "execution_count": 4,
   "metadata": {},
   "outputs": [
    {
     "data": {
      "text/html": [
       "<div>\n",
       "<style scoped>\n",
       "    .dataframe tbody tr th:only-of-type {\n",
       "        vertical-align: middle;\n",
       "    }\n",
       "\n",
       "    .dataframe tbody tr th {\n",
       "        vertical-align: top;\n",
       "    }\n",
       "\n",
       "    .dataframe thead th {\n",
       "        text-align: right;\n",
       "    }\n",
       "</style>\n",
       "<table border=\"1\" class=\"dataframe\">\n",
       "  <thead>\n",
       "    <tr style=\"text-align: right;\">\n",
       "      <th></th>\n",
       "      <th>is_sarcastic</th>\n",
       "      <th>headline</th>\n",
       "      <th>article_link</th>\n",
       "    </tr>\n",
       "  </thead>\n",
       "  <tbody>\n",
       "    <tr>\n",
       "      <th>0</th>\n",
       "      <td>1</td>\n",
       "      <td>thirtysomething scientists unveil doomsday clo...</td>\n",
       "      <td>https://www.theonion.com/thirtysomething-scien...</td>\n",
       "    </tr>\n",
       "    <tr>\n",
       "      <th>1</th>\n",
       "      <td>0</td>\n",
       "      <td>dem rep. totally nails why congress is falling...</td>\n",
       "      <td>https://www.huffingtonpost.com/entry/donna-edw...</td>\n",
       "    </tr>\n",
       "    <tr>\n",
       "      <th>2</th>\n",
       "      <td>0</td>\n",
       "      <td>eat your veggies: 9 deliciously different recipes</td>\n",
       "      <td>https://www.huffingtonpost.com/entry/eat-your-...</td>\n",
       "    </tr>\n",
       "    <tr>\n",
       "      <th>3</th>\n",
       "      <td>1</td>\n",
       "      <td>inclement weather prevents liar from getting t...</td>\n",
       "      <td>https://local.theonion.com/inclement-weather-p...</td>\n",
       "    </tr>\n",
       "    <tr>\n",
       "      <th>4</th>\n",
       "      <td>1</td>\n",
       "      <td>mother comes pretty close to using word 'strea...</td>\n",
       "      <td>https://www.theonion.com/mother-comes-pretty-c...</td>\n",
       "    </tr>\n",
       "  </tbody>\n",
       "</table>\n",
       "</div>"
      ],
      "text/plain": [
       "   is_sarcastic                                           headline  \\\n",
       "0             1  thirtysomething scientists unveil doomsday clo...   \n",
       "1             0  dem rep. totally nails why congress is falling...   \n",
       "2             0  eat your veggies: 9 deliciously different recipes   \n",
       "3             1  inclement weather prevents liar from getting t...   \n",
       "4             1  mother comes pretty close to using word 'strea...   \n",
       "\n",
       "                                        article_link  \n",
       "0  https://www.theonion.com/thirtysomething-scien...  \n",
       "1  https://www.huffingtonpost.com/entry/donna-edw...  \n",
       "2  https://www.huffingtonpost.com/entry/eat-your-...  \n",
       "3  https://local.theonion.com/inclement-weather-p...  \n",
       "4  https://www.theonion.com/mother-comes-pretty-c...  "
      ]
     },
     "execution_count": 4,
     "metadata": {},
     "output_type": "execute_result"
    }
   ],
   "source": [
    "dataset.head()"
   ]
  },
  {
   "cell_type": "code",
   "execution_count": 5,
   "metadata": {},
   "outputs": [
    {
     "data": {
      "text/html": [
       "<div>\n",
       "<style scoped>\n",
       "    .dataframe tbody tr th:only-of-type {\n",
       "        vertical-align: middle;\n",
       "    }\n",
       "\n",
       "    .dataframe tbody tr th {\n",
       "        vertical-align: top;\n",
       "    }\n",
       "\n",
       "    .dataframe thead th {\n",
       "        text-align: right;\n",
       "    }\n",
       "</style>\n",
       "<table border=\"1\" class=\"dataframe\">\n",
       "  <thead>\n",
       "    <tr style=\"text-align: right;\">\n",
       "      <th></th>\n",
       "      <th>is_sarcastic</th>\n",
       "      <th>headline</th>\n",
       "      <th>article_link</th>\n",
       "    </tr>\n",
       "  </thead>\n",
       "  <tbody>\n",
       "    <tr>\n",
       "      <th>28614</th>\n",
       "      <td>1</td>\n",
       "      <td>jews to celebrate rosh hashasha or something</td>\n",
       "      <td>https://www.theonion.com/jews-to-celebrate-ros...</td>\n",
       "    </tr>\n",
       "    <tr>\n",
       "      <th>28615</th>\n",
       "      <td>1</td>\n",
       "      <td>internal affairs investigator disappointed con...</td>\n",
       "      <td>https://local.theonion.com/internal-affairs-in...</td>\n",
       "    </tr>\n",
       "    <tr>\n",
       "      <th>28616</th>\n",
       "      <td>0</td>\n",
       "      <td>the most beautiful acceptance speech this week...</td>\n",
       "      <td>https://www.huffingtonpost.com/entry/andrew-ah...</td>\n",
       "    </tr>\n",
       "    <tr>\n",
       "      <th>28617</th>\n",
       "      <td>1</td>\n",
       "      <td>mars probe destroyed by orbiting spielberg-gat...</td>\n",
       "      <td>https://www.theonion.com/mars-probe-destroyed-...</td>\n",
       "    </tr>\n",
       "    <tr>\n",
       "      <th>28618</th>\n",
       "      <td>1</td>\n",
       "      <td>dad clarifies this not a food stop</td>\n",
       "      <td>https://www.theonion.com/dad-clarifies-this-no...</td>\n",
       "    </tr>\n",
       "  </tbody>\n",
       "</table>\n",
       "</div>"
      ],
      "text/plain": [
       "       is_sarcastic                                           headline  \\\n",
       "28614             1       jews to celebrate rosh hashasha or something   \n",
       "28615             1  internal affairs investigator disappointed con...   \n",
       "28616             0  the most beautiful acceptance speech this week...   \n",
       "28617             1  mars probe destroyed by orbiting spielberg-gat...   \n",
       "28618             1                 dad clarifies this not a food stop   \n",
       "\n",
       "                                            article_link  \n",
       "28614  https://www.theonion.com/jews-to-celebrate-ros...  \n",
       "28615  https://local.theonion.com/internal-affairs-in...  \n",
       "28616  https://www.huffingtonpost.com/entry/andrew-ah...  \n",
       "28617  https://www.theonion.com/mars-probe-destroyed-...  \n",
       "28618  https://www.theonion.com/dad-clarifies-this-no...  "
      ]
     },
     "execution_count": 5,
     "metadata": {},
     "output_type": "execute_result"
    }
   ],
   "source": [
    "dataset.tail()"
   ]
  },
  {
   "attachments": {},
   "cell_type": "markdown",
   "metadata": {},
   "source": [
    "Drop article_link column"
   ]
  },
  {
   "cell_type": "code",
   "execution_count": 6,
   "metadata": {},
   "outputs": [],
   "source": [
    "df = dataset.drop([\"article_link\"], axis = 1)"
   ]
  },
  {
   "attachments": {},
   "cell_type": "markdown",
   "metadata": {},
   "source": [
    "## Tokenizer"
   ]
  },
  {
   "cell_type": "code",
   "execution_count": 7,
   "metadata": {},
   "outputs": [],
   "source": [
    "VOCAB_SIZE = 30000\n",
    "tokenizer = Tokenizer(num_words = VOCAB_SIZE, oov_token = \"OOV\")\n",
    "tokenizer.fit_on_texts(df.headline.values)\n",
    "headline_sequences = tokenizer.texts_to_sequences(df.headline.values)"
   ]
  },
  {
   "attachments": {},
   "cell_type": "markdown",
   "metadata": {},
   "source": [
    "Find maximum length of sublists"
   ]
  },
  {
   "cell_type": "code",
   "execution_count": 8,
   "metadata": {},
   "outputs": [
    {
     "data": {
      "text/plain": [
       "[16004, 355, 3167, 7474, 2644, 3, 661, 1119]"
      ]
     },
     "execution_count": 8,
     "metadata": {},
     "output_type": "execute_result"
    }
   ],
   "source": [
    "headline_sequences[0]"
   ]
  },
  {
   "cell_type": "code",
   "execution_count": 9,
   "metadata": {},
   "outputs": [],
   "source": [
    "len_each_sublist = [len(sublist) for sublist in headline_sequences]"
   ]
  },
  {
   "cell_type": "code",
   "execution_count": 10,
   "metadata": {},
   "outputs": [
    {
     "data": {
      "text/plain": [
       "152"
      ]
     },
     "execution_count": 10,
     "metadata": {},
     "output_type": "execute_result"
    }
   ],
   "source": [
    "max(len_each_sublist)"
   ]
  },
  {
   "attachments": {},
   "cell_type": "markdown",
   "metadata": {},
   "source": [
    "Maximum length of sublists is 152"
   ]
  },
  {
   "cell_type": "code",
   "execution_count": 11,
   "metadata": {},
   "outputs": [],
   "source": [
    "MAX_LEN = 152"
   ]
  },
  {
   "attachments": {},
   "cell_type": "markdown",
   "metadata": {},
   "source": [
    "### Padding"
   ]
  },
  {
   "cell_type": "code",
   "execution_count": 12,
   "metadata": {},
   "outputs": [],
   "source": [
    "padded_headline_seq = pad_sequences(headline_sequences, truncating = 'post', padding = 'post', maxlen = MAX_LEN)"
   ]
  },
  {
   "attachments": {},
   "cell_type": "markdown",
   "metadata": {},
   "source": [
    "## Train Test Split"
   ]
  },
  {
   "attachments": {},
   "cell_type": "markdown",
   "metadata": {},
   "source": [
    "### Set random state "
   ]
  },
  {
   "cell_type": "code",
   "execution_count": 13,
   "metadata": {},
   "outputs": [],
   "source": [
    "RS  = 13"
   ]
  },
  {
   "cell_type": "code",
   "execution_count": 14,
   "metadata": {},
   "outputs": [],
   "source": [
    "X_train, X_test, y_train, y_test = train_test_split(padded_headline_seq, df.is_sarcastic, test_size = 0.2, random_state = RS)"
   ]
  },
  {
   "attachments": {},
   "cell_type": "markdown",
   "metadata": {},
   "source": [
    "## Models"
   ]
  },
  {
   "cell_type": "code",
   "execution_count": 15,
   "metadata": {},
   "outputs": [],
   "source": [
    "EPOCHS_SNN = 100"
   ]
  },
  {
   "attachments": {},
   "cell_type": "markdown",
   "metadata": {},
   "source": [
    "### Simple Neural Network"
   ]
  },
  {
   "cell_type": "code",
   "execution_count": 16,
   "metadata": {},
   "outputs": [],
   "source": [
    "def build_snn_model():\n",
    "    model = keras.Sequential()\n",
    "    model.add(keras.layers.Input((X_train.shape[1],)))\n",
    "    model.add(keras.layers.Dense(100, activation = 'relu'))\n",
    "    model.add(keras.layers.Dense(100, activation = 'relu'))\n",
    "    model.add(keras.layers.Dense(1, activation = 'sigmoid'))\n",
    "    model.compile(optimizer = 'adam', loss = 'binary_crossentropy', metrics = ['accuracy'])\n",
    "    return model"
   ]
  },
  {
   "cell_type": "code",
   "execution_count": 17,
   "metadata": {},
   "outputs": [
    {
     "name": "stderr",
     "output_type": "stream",
     "text": [
      "2023-04-03 11:19:04.858015: W tensorflow/stream_executor/platform/default/dso_loader.cc:64] Could not load dynamic library 'libcuda.so.1'; dlerror: libcuda.so.1: cannot open shared object file: No such file or directory\n",
      "2023-04-03 11:19:04.858404: W tensorflow/stream_executor/cuda/cuda_driver.cc:263] failed call to cuInit: UNKNOWN ERROR (303)\n",
      "2023-04-03 11:19:04.858439: I tensorflow/stream_executor/cuda/cuda_diagnostics.cc:156] kernel driver does not appear to be running on this host (amyrmahdy): /proc/driver/nvidia/version does not exist\n",
      "2023-04-03 11:19:04.859616: I tensorflow/core/platform/cpu_feature_guard.cc:193] This TensorFlow binary is optimized with oneAPI Deep Neural Network Library (oneDNN) to use the following CPU instructions in performance-critical operations:  AVX2 FMA\n",
      "To enable them in other operations, rebuild TensorFlow with the appropriate compiler flags.\n"
     ]
    },
    {
     "name": "stdout",
     "output_type": "stream",
     "text": [
      "Epoch 1/100\n",
      "716/716 [==============================] - 2s 2ms/step - loss: 40.7851 - accuracy: 0.5259\n",
      "Epoch 2/100\n",
      "716/716 [==============================] - 1s 1ms/step - loss: 15.4197 - accuracy: 0.5302\n",
      "Epoch 3/100\n",
      "716/716 [==============================] - 1s 2ms/step - loss: 7.8462 - accuracy: 0.5430\n",
      "Epoch 4/100\n",
      "716/716 [==============================] - 1s 2ms/step - loss: 4.9282 - accuracy: 0.5391\n",
      "Epoch 5/100\n",
      "716/716 [==============================] - 2s 2ms/step - loss: 3.3092 - accuracy: 0.5428\n",
      "Epoch 6/100\n",
      "716/716 [==============================] - 1s 2ms/step - loss: 2.2043 - accuracy: 0.5414\n",
      "Epoch 7/100\n",
      "716/716 [==============================] - 1s 2ms/step - loss: 1.6052 - accuracy: 0.5469\n",
      "Epoch 8/100\n",
      "716/716 [==============================] - 1s 2ms/step - loss: 1.1865 - accuracy: 0.5468\n",
      "Epoch 9/100\n",
      "716/716 [==============================] - 1s 2ms/step - loss: 0.9167 - accuracy: 0.5511\n",
      "Epoch 10/100\n",
      "716/716 [==============================] - 1s 2ms/step - loss: 0.8432 - accuracy: 0.5530\n",
      "Epoch 11/100\n",
      "716/716 [==============================] - 1s 2ms/step - loss: 0.7764 - accuracy: 0.5585\n",
      "Epoch 12/100\n",
      "716/716 [==============================] - 1s 2ms/step - loss: 0.7630 - accuracy: 0.5498\n",
      "Epoch 13/100\n",
      "716/716 [==============================] - 1s 2ms/step - loss: 0.7449 - accuracy: 0.5481\n",
      "Epoch 14/100\n",
      "716/716 [==============================] - 1s 2ms/step - loss: 0.7313 - accuracy: 0.5522\n",
      "Epoch 15/100\n",
      "716/716 [==============================] - 1s 2ms/step - loss: 0.7092 - accuracy: 0.5560\n",
      "Epoch 16/100\n",
      "716/716 [==============================] - 1s 2ms/step - loss: 0.7067 - accuracy: 0.5497\n",
      "Epoch 17/100\n",
      "716/716 [==============================] - 1s 2ms/step - loss: 0.6965 - accuracy: 0.5536\n",
      "Epoch 18/100\n",
      "716/716 [==============================] - 1s 1ms/step - loss: 0.6941 - accuracy: 0.5565\n",
      "Epoch 19/100\n",
      "716/716 [==============================] - 1s 1ms/step - loss: 0.7024 - accuracy: 0.5514\n",
      "Epoch 20/100\n",
      "716/716 [==============================] - 1s 1ms/step - loss: 0.7015 - accuracy: 0.5373\n",
      "Epoch 21/100\n",
      "716/716 [==============================] - 1s 2ms/step - loss: 0.6891 - accuracy: 0.5451\n",
      "Epoch 22/100\n",
      "716/716 [==============================] - 1s 2ms/step - loss: 0.6995 - accuracy: 0.5418\n",
      "Epoch 23/100\n",
      "716/716 [==============================] - 1s 1ms/step - loss: 0.7029 - accuracy: 0.5417\n",
      "Epoch 24/100\n",
      "716/716 [==============================] - 1s 1ms/step - loss: 0.7012 - accuracy: 0.5333\n",
      "Epoch 25/100\n",
      "716/716 [==============================] - 1s 1ms/step - loss: 0.6947 - accuracy: 0.5340\n",
      "Epoch 26/100\n",
      "716/716 [==============================] - 1s 2ms/step - loss: 0.6888 - accuracy: 0.5344\n",
      "Epoch 27/100\n",
      "716/716 [==============================] - 1s 2ms/step - loss: 0.6863 - accuracy: 0.5416\n",
      "Epoch 28/100\n",
      "716/716 [==============================] - 2s 2ms/step - loss: 0.6922 - accuracy: 0.5421\n",
      "Epoch 29/100\n",
      "716/716 [==============================] - 1s 1ms/step - loss: 0.6851 - accuracy: 0.5447\n",
      "Epoch 30/100\n",
      "716/716 [==============================] - 1s 2ms/step - loss: 0.6828 - accuracy: 0.5492\n",
      "Epoch 31/100\n",
      "716/716 [==============================] - 1s 1ms/step - loss: 0.6847 - accuracy: 0.5536\n",
      "Epoch 32/100\n",
      "716/716 [==============================] - 1s 1ms/step - loss: 0.6805 - accuracy: 0.5601\n",
      "Epoch 33/100\n",
      "716/716 [==============================] - 1s 1ms/step - loss: 0.6793 - accuracy: 0.5642\n",
      "Epoch 34/100\n",
      "716/716 [==============================] - 1s 1ms/step - loss: 0.6784 - accuracy: 0.5692\n",
      "Epoch 35/100\n",
      "716/716 [==============================] - 1s 2ms/step - loss: 0.6810 - accuracy: 0.5709\n",
      "Epoch 36/100\n",
      "716/716 [==============================] - 1s 2ms/step - loss: 0.6785 - accuracy: 0.5714\n",
      "Epoch 37/100\n",
      "716/716 [==============================] - 1s 2ms/step - loss: 0.6791 - accuracy: 0.5725\n",
      "Epoch 38/100\n",
      "716/716 [==============================] - 1s 1ms/step - loss: 0.6790 - accuracy: 0.5706\n",
      "Epoch 39/100\n",
      "716/716 [==============================] - 1s 2ms/step - loss: 0.6799 - accuracy: 0.5703\n",
      "Epoch 40/100\n",
      "716/716 [==============================] - 1s 2ms/step - loss: 0.6791 - accuracy: 0.5724\n",
      "Epoch 41/100\n",
      "716/716 [==============================] - 1s 2ms/step - loss: 0.6806 - accuracy: 0.5721\n",
      "Epoch 42/100\n",
      "716/716 [==============================] - 1s 2ms/step - loss: 0.6760 - accuracy: 0.5722\n",
      "Epoch 43/100\n",
      "716/716 [==============================] - 1s 2ms/step - loss: 0.6759 - accuracy: 0.5704\n",
      "Epoch 44/100\n",
      "716/716 [==============================] - 1s 2ms/step - loss: 0.6762 - accuracy: 0.5731\n",
      "Epoch 45/100\n",
      "716/716 [==============================] - 1s 2ms/step - loss: 0.6768 - accuracy: 0.5727\n",
      "Epoch 46/100\n",
      "716/716 [==============================] - 1s 2ms/step - loss: 0.6784 - accuracy: 0.5709\n",
      "Epoch 47/100\n",
      "716/716 [==============================] - 1s 2ms/step - loss: 0.6756 - accuracy: 0.5715\n",
      "Epoch 48/100\n",
      "716/716 [==============================] - 1s 2ms/step - loss: 0.6742 - accuracy: 0.5710\n",
      "Epoch 49/100\n",
      "716/716 [==============================] - 1s 2ms/step - loss: 0.6732 - accuracy: 0.5770\n",
      "Epoch 50/100\n",
      "716/716 [==============================] - 1s 2ms/step - loss: 0.6724 - accuracy: 0.5736\n",
      "Epoch 51/100\n",
      "716/716 [==============================] - 1s 2ms/step - loss: 0.6721 - accuracy: 0.5759\n",
      "Epoch 52/100\n",
      "716/716 [==============================] - 1s 2ms/step - loss: 0.6730 - accuracy: 0.5780\n",
      "Epoch 53/100\n",
      "716/716 [==============================] - 1s 2ms/step - loss: 0.6739 - accuracy: 0.5754\n",
      "Epoch 54/100\n",
      "716/716 [==============================] - 1s 2ms/step - loss: 0.6790 - accuracy: 0.5682\n",
      "Epoch 55/100\n",
      "716/716 [==============================] - 2s 2ms/step - loss: 0.6740 - accuracy: 0.5702\n",
      "Epoch 56/100\n",
      "716/716 [==============================] - 1s 2ms/step - loss: 0.6712 - accuracy: 0.5736\n",
      "Epoch 57/100\n",
      "716/716 [==============================] - 1s 2ms/step - loss: 0.6752 - accuracy: 0.5733\n",
      "Epoch 58/100\n",
      "716/716 [==============================] - 1s 2ms/step - loss: 0.6766 - accuracy: 0.5742\n",
      "Epoch 59/100\n",
      "716/716 [==============================] - 1s 1ms/step - loss: 0.6740 - accuracy: 0.5755\n",
      "Epoch 60/100\n",
      "716/716 [==============================] - 1s 2ms/step - loss: 0.6716 - accuracy: 0.5761\n",
      "Epoch 61/100\n",
      "716/716 [==============================] - 2s 2ms/step - loss: 0.6754 - accuracy: 0.5749\n",
      "Epoch 62/100\n",
      "716/716 [==============================] - 1s 2ms/step - loss: 0.6754 - accuracy: 0.5741\n",
      "Epoch 63/100\n",
      "716/716 [==============================] - 1s 2ms/step - loss: 0.6741 - accuracy: 0.5725\n",
      "Epoch 64/100\n",
      "716/716 [==============================] - 1s 2ms/step - loss: 0.6716 - accuracy: 0.5752\n",
      "Epoch 65/100\n",
      "716/716 [==============================] - 1s 2ms/step - loss: 0.6705 - accuracy: 0.5774\n",
      "Epoch 66/100\n",
      "716/716 [==============================] - 1s 2ms/step - loss: 0.6716 - accuracy: 0.5785\n",
      "Epoch 67/100\n",
      "716/716 [==============================] - 1s 2ms/step - loss: 0.6713 - accuracy: 0.5767\n",
      "Epoch 68/100\n",
      "716/716 [==============================] - 1s 1ms/step - loss: 0.6707 - accuracy: 0.5779\n",
      "Epoch 69/100\n",
      "716/716 [==============================] - 1s 1ms/step - loss: 0.6741 - accuracy: 0.5754\n",
      "Epoch 70/100\n",
      "716/716 [==============================] - 1s 2ms/step - loss: 0.6734 - accuracy: 0.5769\n",
      "Epoch 71/100\n",
      "716/716 [==============================] - 1s 2ms/step - loss: 0.6723 - accuracy: 0.5795\n",
      "Epoch 72/100\n",
      "716/716 [==============================] - 1s 2ms/step - loss: 0.6699 - accuracy: 0.5788\n",
      "Epoch 73/100\n",
      "716/716 [==============================] - 1s 1ms/step - loss: 0.6703 - accuracy: 0.5813\n",
      "Epoch 74/100\n",
      "716/716 [==============================] - 1s 2ms/step - loss: 0.6679 - accuracy: 0.5821\n",
      "Epoch 75/100\n",
      "716/716 [==============================] - 1s 2ms/step - loss: 0.6758 - accuracy: 0.5739\n",
      "Epoch 76/100\n",
      "716/716 [==============================] - 1s 1ms/step - loss: 0.6700 - accuracy: 0.5846\n",
      "Epoch 77/100\n",
      "716/716 [==============================] - 1s 2ms/step - loss: 0.6678 - accuracy: 0.5843\n",
      "Epoch 78/100\n",
      "716/716 [==============================] - 1s 2ms/step - loss: 0.6672 - accuracy: 0.5839\n",
      "Epoch 79/100\n",
      "716/716 [==============================] - 1s 2ms/step - loss: 0.6661 - accuracy: 0.5847\n",
      "Epoch 80/100\n",
      "716/716 [==============================] - 1s 2ms/step - loss: 0.6683 - accuracy: 0.5823\n",
      "Epoch 81/100\n",
      "716/716 [==============================] - 2s 2ms/step - loss: 0.6662 - accuracy: 0.5870\n",
      "Epoch 82/100\n",
      "716/716 [==============================] - 1s 2ms/step - loss: 0.6685 - accuracy: 0.5852\n",
      "Epoch 83/100\n",
      "716/716 [==============================] - 1s 2ms/step - loss: 0.6658 - accuracy: 0.5884\n",
      "Epoch 84/100\n",
      "716/716 [==============================] - 1s 2ms/step - loss: 0.6665 - accuracy: 0.5862\n",
      "Epoch 85/100\n",
      "716/716 [==============================] - 1s 2ms/step - loss: 0.6657 - accuracy: 0.5869\n",
      "Epoch 86/100\n",
      "716/716 [==============================] - 1s 2ms/step - loss: 0.6681 - accuracy: 0.5847\n",
      "Epoch 87/100\n",
      "716/716 [==============================] - 1s 2ms/step - loss: 0.6630 - accuracy: 0.5907\n",
      "Epoch 88/100\n",
      "716/716 [==============================] - 1s 2ms/step - loss: 0.6634 - accuracy: 0.5884\n",
      "Epoch 89/100\n",
      "716/716 [==============================] - 1s 1ms/step - loss: 0.6644 - accuracy: 0.5889\n",
      "Epoch 90/100\n",
      "716/716 [==============================] - 1s 2ms/step - loss: 0.6657 - accuracy: 0.5882\n",
      "Epoch 91/100\n",
      "716/716 [==============================] - 1s 1ms/step - loss: 0.6633 - accuracy: 0.5879\n",
      "Epoch 92/100\n",
      "716/716 [==============================] - 1s 1ms/step - loss: 0.6618 - accuracy: 0.5892\n",
      "Epoch 93/100\n",
      "716/716 [==============================] - 1s 2ms/step - loss: 0.6617 - accuracy: 0.5903\n",
      "Epoch 94/100\n",
      "716/716 [==============================] - 1s 1ms/step - loss: 0.6615 - accuracy: 0.5902\n",
      "Epoch 95/100\n",
      "716/716 [==============================] - 1s 2ms/step - loss: 0.6635 - accuracy: 0.5848\n",
      "Epoch 96/100\n",
      "716/716 [==============================] - 1s 2ms/step - loss: 0.6630 - accuracy: 0.5850\n",
      "Epoch 97/100\n",
      "716/716 [==============================] - 1s 2ms/step - loss: 0.6618 - accuracy: 0.5897\n",
      "Epoch 98/100\n",
      "716/716 [==============================] - 1s 2ms/step - loss: 0.6614 - accuracy: 0.5889\n",
      "Epoch 99/100\n",
      "716/716 [==============================] - 1s 2ms/step - loss: 0.6619 - accuracy: 0.5917\n",
      "Epoch 100/100\n",
      "716/716 [==============================] - 1s 2ms/step - loss: 0.6620 - accuracy: 0.5908\n"
     ]
    }
   ],
   "source": [
    "snn_model = build_snn_model()\n",
    "snn_history = snn_model.fit(X_train,y_train, epochs = EPOCHS_SNN)"
   ]
  },
  {
   "cell_type": "code",
   "execution_count": 18,
   "metadata": {},
   "outputs": [
    {
     "data": {
      "text/html": [
       "<div>\n",
       "<style scoped>\n",
       "    .dataframe tbody tr th:only-of-type {\n",
       "        vertical-align: middle;\n",
       "    }\n",
       "\n",
       "    .dataframe tbody tr th {\n",
       "        vertical-align: top;\n",
       "    }\n",
       "\n",
       "    .dataframe thead th {\n",
       "        text-align: right;\n",
       "    }\n",
       "</style>\n",
       "<table border=\"1\" class=\"dataframe\">\n",
       "  <thead>\n",
       "    <tr style=\"text-align: right;\">\n",
       "      <th></th>\n",
       "      <th>epochs</th>\n",
       "      <th>loss</th>\n",
       "      <th>accuracy</th>\n",
       "    </tr>\n",
       "  </thead>\n",
       "  <tbody>\n",
       "    <tr>\n",
       "      <th>0</th>\n",
       "      <td>1</td>\n",
       "      <td>40.785091</td>\n",
       "      <td>0.525879</td>\n",
       "    </tr>\n",
       "    <tr>\n",
       "      <th>1</th>\n",
       "      <td>2</td>\n",
       "      <td>15.419674</td>\n",
       "      <td>0.530247</td>\n",
       "    </tr>\n",
       "    <tr>\n",
       "      <th>2</th>\n",
       "      <td>3</td>\n",
       "      <td>7.846189</td>\n",
       "      <td>0.542957</td>\n",
       "    </tr>\n",
       "    <tr>\n",
       "      <th>3</th>\n",
       "      <td>4</td>\n",
       "      <td>4.928229</td>\n",
       "      <td>0.539070</td>\n",
       "    </tr>\n",
       "    <tr>\n",
       "      <th>4</th>\n",
       "      <td>5</td>\n",
       "      <td>3.309157</td>\n",
       "      <td>0.542782</td>\n",
       "    </tr>\n",
       "    <tr>\n",
       "      <th>...</th>\n",
       "      <td>...</td>\n",
       "      <td>...</td>\n",
       "      <td>...</td>\n",
       "    </tr>\n",
       "    <tr>\n",
       "      <th>95</th>\n",
       "      <td>96</td>\n",
       "      <td>0.662999</td>\n",
       "      <td>0.584975</td>\n",
       "    </tr>\n",
       "    <tr>\n",
       "      <th>96</th>\n",
       "      <td>97</td>\n",
       "      <td>0.661783</td>\n",
       "      <td>0.589692</td>\n",
       "    </tr>\n",
       "    <tr>\n",
       "      <th>97</th>\n",
       "      <td>98</td>\n",
       "      <td>0.661364</td>\n",
       "      <td>0.588862</td>\n",
       "    </tr>\n",
       "    <tr>\n",
       "      <th>98</th>\n",
       "      <td>99</td>\n",
       "      <td>0.661909</td>\n",
       "      <td>0.591658</td>\n",
       "    </tr>\n",
       "    <tr>\n",
       "      <th>99</th>\n",
       "      <td>100</td>\n",
       "      <td>0.662047</td>\n",
       "      <td>0.590784</td>\n",
       "    </tr>\n",
       "  </tbody>\n",
       "</table>\n",
       "<p>100 rows × 3 columns</p>\n",
       "</div>"
      ],
      "text/plain": [
       "    epochs       loss  accuracy\n",
       "0        1  40.785091  0.525879\n",
       "1        2  15.419674  0.530247\n",
       "2        3   7.846189  0.542957\n",
       "3        4   4.928229  0.539070\n",
       "4        5   3.309157  0.542782\n",
       "..     ...        ...       ...\n",
       "95      96   0.662999  0.584975\n",
       "96      97   0.661783  0.589692\n",
       "97      98   0.661364  0.588862\n",
       "98      99   0.661909  0.591658\n",
       "99     100   0.662047  0.590784\n",
       "\n",
       "[100 rows x 3 columns]"
      ]
     },
     "execution_count": 18,
     "metadata": {},
     "output_type": "execute_result"
    }
   ],
   "source": [
    "snn_history_df = pd.DataFrame(snn_history.history)\n",
    "snn_history_df.index = snn_history_df.index + 1\n",
    "snn_history_df.reset_index().rename(columns = {\"index\" : \"epochs\"})"
   ]
  },
  {
   "cell_type": "code",
   "execution_count": 19,
   "metadata": {},
   "outputs": [
    {
     "data": {
      "image/png": "[encoded data removed]",
      "text/plain": [
       "<Figure size 720x360 with 1 Axes>"
      ]
     },
     "metadata": {
      "needs_background": "light"
     },
     "output_type": "display_data"
    }
   ],
   "source": [
    "snn_history_df.plot(kind = 'line', figsize = (10,5), xlabel = \"epochs\", ylabel = \"value\", title = \"History SNN model\")\n",
    "plt.show()"
   ]
  },
  {
   "cell_type": "code",
   "execution_count": 20,
   "metadata": {},
   "outputs": [
    {
     "name": "stdout",
     "output_type": "stream",
     "text": [
      "179/179 [==============================] - 0s 991us/step\n",
      "SNN f1_score: 0.4558790340780862\n",
      "              precision    recall  f1-score   support\n",
      "\n",
      "           0       0.57      0.77      0.66      3003\n",
      "           1       0.59      0.37      0.46      2721\n",
      "\n",
      "    accuracy                           0.58      5724\n",
      "   macro avg       0.58      0.57      0.56      5724\n",
      "weighted avg       0.58      0.58      0.56      5724\n",
      "\n"
     ]
    },
    {
     "data": {
      "image/png": "[encoded data removed]",
      "text/plain": [
       "<Figure size 432x288 with 2 Axes>"
      ]
     },
     "metadata": {
      "needs_background": "light"
     },
     "output_type": "display_data"
    }
   ],
   "source": [
    "snn_notfinal_predict = snn_model.predict(X_test)\n",
    "snn_predict = np.where(snn_notfinal_predict > 0.5, 1, 0)\n",
    "snn_f1_score = f1_score(y_test, snn_predict)\n",
    "print(f\"SNN f1_score: {snn_f1_score}\")\n",
    "snn_class_report = classification_report(y_test, snn_predict)\n",
    "print(snn_class_report)\n",
    "snn_conf = confusion_matrix(y_test, snn_predict)\n",
    "snn_conf_plot = ConfusionMatrixDisplay(snn_conf)\n",
    "snn_conf_plot.plot()\n",
    "plt.show()"
   ]
  },
  {
   "attachments": {},
   "cell_type": "markdown",
   "metadata": {},
   "source": [
    "### Complicated Neural Network (Embedding, Conv1D, MaxPool1D, ...)"
   ]
  },
  {
   "cell_type": "code",
   "execution_count": 21,
   "metadata": {},
   "outputs": [],
   "source": [
    "EMBEDDING_DIM = 150\n",
    "\n",
    "EPOCHS_CMP = 30\n",
    "\n",
    "## Embedding(input_dim, output_dim, input_length = ?)\n",
    "\n",
    "## Conv1D filters, kernel_size\n",
    "\n",
    "## MaxPool1D pool_size"
   ]
  },
  {
   "cell_type": "code",
   "execution_count": 22,
   "metadata": {},
   "outputs": [],
   "source": [
    "def build_cmp_model():\n",
    "    model = keras.Sequential()\n",
    "    model.add(keras.layers.Embedding(VOCAB_SIZE, EMBEDDING_DIM, input_length = X_train.shape[1]))\n",
    "    model.add(keras.layers.Conv1D(16, 3, activation = 'relu'))\n",
    "    model.add(keras.layers.MaxPooling1D(2))\n",
    "    model.add(keras.layers.Dropout(0.2))\n",
    "    model.add(keras.layers.Flatten())\n",
    "    model.add(keras.layers.Dense(10, activation = 'relu'))\n",
    "    model.add(keras.layers.Dense(1, activation = 'sigmoid'))\n",
    "    model.compile(optimizer = 'adam', loss = 'binary_crossentropy', metrics = ['accuracy'])\n",
    "    return model"
   ]
  },
  {
   "cell_type": "code",
   "execution_count": 23,
   "metadata": {},
   "outputs": [
    {
     "name": "stdout",
     "output_type": "stream",
     "text": [
      "Epoch 1/30\n",
      "716/716 [==============================] - 25s 34ms/step - loss: 0.4155 - accuracy: 0.7974\n",
      "Epoch 2/30\n",
      "716/716 [==============================] - 24s 33ms/step - loss: 0.1548 - accuracy: 0.9416\n",
      "Epoch 3/30\n",
      "716/716 [==============================] - 29s 40ms/step - loss: 0.0475 - accuracy: 0.9846\n",
      "Epoch 4/30\n",
      "716/716 [==============================] - 28s 39ms/step - loss: 0.0151 - accuracy: 0.9959\n",
      "Epoch 5/30\n",
      "716/716 [==============================] - 27s 38ms/step - loss: 0.0076 - accuracy: 0.9976\n",
      "Epoch 6/30\n",
      "716/716 [==============================] - 28s 40ms/step - loss: 0.0051 - accuracy: 0.9985\n",
      "Epoch 7/30\n",
      "716/716 [==============================] - 29s 41ms/step - loss: 0.0030 - accuracy: 0.9991\n",
      "Epoch 8/30\n",
      "716/716 [==============================] - 29s 40ms/step - loss: 0.0045 - accuracy: 0.9985\n",
      "Epoch 9/30\n",
      "716/716 [==============================] - 24s 34ms/step - loss: 0.0071 - accuracy: 0.9976\n",
      "Epoch 10/30\n",
      "716/716 [==============================] - 24s 33ms/step - loss: 0.0068 - accuracy: 0.9979\n",
      "Epoch 11/30\n",
      "716/716 [==============================] - 24s 33ms/step - loss: 0.0045 - accuracy: 0.9987\n",
      "Epoch 12/30\n",
      "716/716 [==============================] - 23s 32ms/step - loss: 0.0039 - accuracy: 0.9987\n",
      "Epoch 13/30\n",
      "716/716 [==============================] - 24s 34ms/step - loss: 0.0050 - accuracy: 0.9984\n",
      "Epoch 14/30\n",
      "716/716 [==============================] - 22s 31ms/step - loss: 0.0022 - accuracy: 0.9994\n",
      "Epoch 15/30\n",
      "716/716 [==============================] - 23s 33ms/step - loss: 9.3028e-04 - accuracy: 0.9997\n",
      "Epoch 16/30\n",
      "716/716 [==============================] - 24s 33ms/step - loss: 0.0017 - accuracy: 0.9993\n",
      "Epoch 17/30\n",
      "716/716 [==============================] - 24s 33ms/step - loss: 0.0021 - accuracy: 0.9992\n",
      "Epoch 18/30\n",
      "716/716 [==============================] - 21s 30ms/step - loss: 0.0034 - accuracy: 0.9990\n",
      "Epoch 19/30\n",
      "716/716 [==============================] - 22s 31ms/step - loss: 0.0014 - accuracy: 0.9996\n",
      "Epoch 20/30\n",
      "716/716 [==============================] - 22s 30ms/step - loss: 9.5475e-04 - accuracy: 0.9996\n",
      "Epoch 21/30\n",
      "716/716 [==============================] - 20s 28ms/step - loss: 0.0017 - accuracy: 0.9995\n",
      "Epoch 22/30\n",
      "716/716 [==============================] - 20s 28ms/step - loss: 0.0017 - accuracy: 0.9995\n",
      "Epoch 23/30\n",
      "716/716 [==============================] - 20s 27ms/step - loss: 8.2968e-04 - accuracy: 0.9998\n",
      "Epoch 24/30\n",
      "716/716 [==============================] - 20s 27ms/step - loss: 0.0013 - accuracy: 0.9995\n",
      "Epoch 25/30\n",
      "716/716 [==============================] - 20s 27ms/step - loss: 0.0015 - accuracy: 0.9995\n",
      "Epoch 26/30\n",
      "716/716 [==============================] - 20s 27ms/step - loss: 0.0018 - accuracy: 0.9994\n",
      "Epoch 27/30\n",
      "716/716 [==============================] - 20s 27ms/step - loss: 0.0016 - accuracy: 0.9995\n",
      "Epoch 28/30\n",
      "716/716 [==============================] - 21s 29ms/step - loss: 0.0010 - accuracy: 0.9997\n",
      "Epoch 29/30\n",
      "716/716 [==============================] - 21s 30ms/step - loss: 3.4568e-04 - accuracy: 0.9999\n",
      "Epoch 30/30\n",
      "716/716 [==============================] - 24s 34ms/step - loss: 6.9702e-04 - accuracy: 0.9998\n"
     ]
    }
   ],
   "source": [
    "cmp_model = build_cmp_model()\n",
    "cmp_history = cmp_model.fit(X_train,y_train, epochs = EPOCHS_CMP)"
   ]
  },
  {
   "cell_type": "code",
   "execution_count": 24,
   "metadata": {},
   "outputs": [
    {
     "data": {
      "text/html": [
       "<div>\n",
       "<style scoped>\n",
       "    .dataframe tbody tr th:only-of-type {\n",
       "        vertical-align: middle;\n",
       "    }\n",
       "\n",
       "    .dataframe tbody tr th {\n",
       "        vertical-align: top;\n",
       "    }\n",
       "\n",
       "    .dataframe thead th {\n",
       "        text-align: right;\n",
       "    }\n",
       "</style>\n",
       "<table border=\"1\" class=\"dataframe\">\n",
       "  <thead>\n",
       "    <tr style=\"text-align: right;\">\n",
       "      <th></th>\n",
       "      <th>epochs</th>\n",
       "      <th>loss</th>\n",
       "      <th>accuracy</th>\n",
       "    </tr>\n",
       "  </thead>\n",
       "  <tbody>\n",
       "    <tr>\n",
       "      <th>0</th>\n",
       "      <td>1</td>\n",
       "      <td>0.415490</td>\n",
       "      <td>0.797379</td>\n",
       "    </tr>\n",
       "    <tr>\n",
       "      <th>1</th>\n",
       "      <td>2</td>\n",
       "      <td>0.154794</td>\n",
       "      <td>0.941647</td>\n",
       "    </tr>\n",
       "    <tr>\n",
       "      <th>2</th>\n",
       "      <td>3</td>\n",
       "      <td>0.047483</td>\n",
       "      <td>0.984582</td>\n",
       "    </tr>\n",
       "    <tr>\n",
       "      <th>3</th>\n",
       "      <td>4</td>\n",
       "      <td>0.015141</td>\n",
       "      <td>0.995894</td>\n",
       "    </tr>\n",
       "    <tr>\n",
       "      <th>4</th>\n",
       "      <td>5</td>\n",
       "      <td>0.007579</td>\n",
       "      <td>0.997554</td>\n",
       "    </tr>\n",
       "    <tr>\n",
       "      <th>5</th>\n",
       "      <td>6</td>\n",
       "      <td>0.005147</td>\n",
       "      <td>0.998515</td>\n",
       "    </tr>\n",
       "    <tr>\n",
       "      <th>6</th>\n",
       "      <td>7</td>\n",
       "      <td>0.003041</td>\n",
       "      <td>0.999083</td>\n",
       "    </tr>\n",
       "    <tr>\n",
       "      <th>7</th>\n",
       "      <td>8</td>\n",
       "      <td>0.004451</td>\n",
       "      <td>0.998471</td>\n",
       "    </tr>\n",
       "    <tr>\n",
       "      <th>8</th>\n",
       "      <td>9</td>\n",
       "      <td>0.007061</td>\n",
       "      <td>0.997598</td>\n",
       "    </tr>\n",
       "    <tr>\n",
       "      <th>9</th>\n",
       "      <td>10</td>\n",
       "      <td>0.006758</td>\n",
       "      <td>0.997903</td>\n",
       "    </tr>\n",
       "    <tr>\n",
       "      <th>10</th>\n",
       "      <td>11</td>\n",
       "      <td>0.004529</td>\n",
       "      <td>0.998690</td>\n",
       "    </tr>\n",
       "    <tr>\n",
       "      <th>11</th>\n",
       "      <td>12</td>\n",
       "      <td>0.003934</td>\n",
       "      <td>0.998733</td>\n",
       "    </tr>\n",
       "    <tr>\n",
       "      <th>12</th>\n",
       "      <td>13</td>\n",
       "      <td>0.004954</td>\n",
       "      <td>0.998384</td>\n",
       "    </tr>\n",
       "    <tr>\n",
       "      <th>13</th>\n",
       "      <td>14</td>\n",
       "      <td>0.002209</td>\n",
       "      <td>0.999389</td>\n",
       "    </tr>\n",
       "    <tr>\n",
       "      <th>14</th>\n",
       "      <td>15</td>\n",
       "      <td>0.000930</td>\n",
       "      <td>0.999738</td>\n",
       "    </tr>\n",
       "    <tr>\n",
       "      <th>15</th>\n",
       "      <td>16</td>\n",
       "      <td>0.001729</td>\n",
       "      <td>0.999301</td>\n",
       "    </tr>\n",
       "    <tr>\n",
       "      <th>16</th>\n",
       "      <td>17</td>\n",
       "      <td>0.002090</td>\n",
       "      <td>0.999214</td>\n",
       "    </tr>\n",
       "    <tr>\n",
       "      <th>17</th>\n",
       "      <td>18</td>\n",
       "      <td>0.003421</td>\n",
       "      <td>0.999039</td>\n",
       "    </tr>\n",
       "    <tr>\n",
       "      <th>18</th>\n",
       "      <td>19</td>\n",
       "      <td>0.001447</td>\n",
       "      <td>0.999607</td>\n",
       "    </tr>\n",
       "    <tr>\n",
       "      <th>19</th>\n",
       "      <td>20</td>\n",
       "      <td>0.000955</td>\n",
       "      <td>0.999563</td>\n",
       "    </tr>\n",
       "    <tr>\n",
       "      <th>20</th>\n",
       "      <td>21</td>\n",
       "      <td>0.001694</td>\n",
       "      <td>0.999520</td>\n",
       "    </tr>\n",
       "    <tr>\n",
       "      <th>21</th>\n",
       "      <td>22</td>\n",
       "      <td>0.001687</td>\n",
       "      <td>0.999520</td>\n",
       "    </tr>\n",
       "    <tr>\n",
       "      <th>22</th>\n",
       "      <td>23</td>\n",
       "      <td>0.000830</td>\n",
       "      <td>0.999782</td>\n",
       "    </tr>\n",
       "    <tr>\n",
       "      <th>23</th>\n",
       "      <td>24</td>\n",
       "      <td>0.001310</td>\n",
       "      <td>0.999476</td>\n",
       "    </tr>\n",
       "    <tr>\n",
       "      <th>24</th>\n",
       "      <td>25</td>\n",
       "      <td>0.001461</td>\n",
       "      <td>0.999520</td>\n",
       "    </tr>\n",
       "    <tr>\n",
       "      <th>25</th>\n",
       "      <td>26</td>\n",
       "      <td>0.001754</td>\n",
       "      <td>0.999432</td>\n",
       "    </tr>\n",
       "    <tr>\n",
       "      <th>26</th>\n",
       "      <td>27</td>\n",
       "      <td>0.001563</td>\n",
       "      <td>0.999476</td>\n",
       "    </tr>\n",
       "    <tr>\n",
       "      <th>27</th>\n",
       "      <td>28</td>\n",
       "      <td>0.001015</td>\n",
       "      <td>0.999694</td>\n",
       "    </tr>\n",
       "    <tr>\n",
       "      <th>28</th>\n",
       "      <td>29</td>\n",
       "      <td>0.000346</td>\n",
       "      <td>0.999913</td>\n",
       "    </tr>\n",
       "    <tr>\n",
       "      <th>29</th>\n",
       "      <td>30</td>\n",
       "      <td>0.000697</td>\n",
       "      <td>0.999782</td>\n",
       "    </tr>\n",
       "  </tbody>\n",
       "</table>\n",
       "</div>"
      ],
      "text/plain": [
       "    epochs      loss  accuracy\n",
       "0        1  0.415490  0.797379\n",
       "1        2  0.154794  0.941647\n",
       "2        3  0.047483  0.984582\n",
       "3        4  0.015141  0.995894\n",
       "4        5  0.007579  0.997554\n",
       "5        6  0.005147  0.998515\n",
       "6        7  0.003041  0.999083\n",
       "7        8  0.004451  0.998471\n",
       "8        9  0.007061  0.997598\n",
       "9       10  0.006758  0.997903\n",
       "10      11  0.004529  0.998690\n",
       "11      12  0.003934  0.998733\n",
       "12      13  0.004954  0.998384\n",
       "13      14  0.002209  0.999389\n",
       "14      15  0.000930  0.999738\n",
       "15      16  0.001729  0.999301\n",
       "16      17  0.002090  0.999214\n",
       "17      18  0.003421  0.999039\n",
       "18      19  0.001447  0.999607\n",
       "19      20  0.000955  0.999563\n",
       "20      21  0.001694  0.999520\n",
       "21      22  0.001687  0.999520\n",
       "22      23  0.000830  0.999782\n",
       "23      24  0.001310  0.999476\n",
       "24      25  0.001461  0.999520\n",
       "25      26  0.001754  0.999432\n",
       "26      27  0.001563  0.999476\n",
       "27      28  0.001015  0.999694\n",
       "28      29  0.000346  0.999913\n",
       "29      30  0.000697  0.999782"
      ]
     },
     "execution_count": 24,
     "metadata": {},
     "output_type": "execute_result"
    }
   ],
   "source": [
    "cmp_history_df = pd.DataFrame(cmp_history.history)\n",
    "cmp_history_df.index = cmp_history_df.index + 1\n",
    "cmp_history_df.reset_index().rename(columns = {\"index\" : \"epochs\"})"
   ]
  },
  {
   "cell_type": "code",
   "execution_count": 25,
   "metadata": {},
   "outputs": [
    {
     "data": {
      "image/png": "[encoded data removed]",
      "text/plain": [
       "<Figure size 720x360 with 1 Axes>"
      ]
     },
     "metadata": {
      "needs_background": "light"
     },
     "output_type": "display_data"
    }
   ],
   "source": [
    "cmp_history_df.plot(kind = 'line', figsize = (10,5), xlabel = \"epochs\", ylabel = \"value\", title = \"History CMP model\")\n",
    "plt.show()"
   ]
  },
  {
   "cell_type": "code",
   "execution_count": 26,
   "metadata": {},
   "outputs": [
    {
     "name": "stdout",
     "output_type": "stream",
     "text": [
      "179/179 [==============================] - 1s 3ms/step\n",
      "CMP f1_score: 0.8456587482806186\n",
      "              precision    recall  f1-score   support\n",
      "\n",
      "           0       0.84      0.87      0.86      3003\n",
      "           1       0.85      0.81      0.83      2721\n",
      "\n",
      "    accuracy                           0.85      5724\n",
      "   macro avg       0.85      0.84      0.85      5724\n",
      "weighted avg       0.85      0.85      0.85      5724\n",
      "\n"
     ]
    },
    {
     "data": {
      "image/png": "[encoded data removed]",
      "text/plain": [
       "<Figure size 432x288 with 2 Axes>"
      ]
     },
     "metadata": {
      "needs_background": "light"
     },
     "output_type": "display_data"
    }
   ],
   "source": [
    "cmp_notfinal_predict = cmp_model.predict(X_test)\n",
    "cmp_predict = np.where(cmp_notfinal_predict > 0.5, 1, 0)\n",
    "cmp_f1_score = f1_score(y_test,cmp_predict, average = 'weighted')\n",
    "print(f\"CMP f1_score: {cmp_f1_score}\")\n",
    "cmp_class_report = classification_report(y_test, cmp_predict)\n",
    "print(cmp_class_report)\n",
    "cmp_conf = confusion_matrix(y_test, cmp_predict)\n",
    "cmp_conf_plot = ConfusionMatrixDisplay(cmp_conf)\n",
    "cmp_conf_plot.plot()\n",
    "plt.show()"
   ]
  },
  {
   "cell_type": "code",
   "execution_count": 27,
   "metadata": {},
   "outputs": [],
   "source": [
    "# Author: amyrmahdy\n",
    "# Date: 14 Jan 2023"
   ]
  }
 ],
 "metadata": {
  "kernelspec": {
   "display_name": "Python 3",
   "language": "python",
   "name": "python3"
  },
  "language_info": {
   "codemirror_mode": {
    "name": "ipython",
    "version": 3
   },
   "file_extension": ".py",
   "mimetype": "text/x-python",
   "name": "python",
   "nbconvert_exporter": "python",
   "pygments_lexer": "ipython3",
   "version": "3.10.6"
  },
  "orig_nbformat": 4,
  "vscode": {
   "interpreter": {
    "hash": "916dbcbb3f70747c44a77c7bcd40155683ae19c65e1c03b4aa3499c5328201f1"
   }
  }
 },
 "nbformat": 4,
 "nbformat_minor": 2
}
